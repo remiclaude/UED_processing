{
 "cells": [
  {
   "cell_type": "code",
   "execution_count": null,
   "metadata": {},
   "outputs": [],
   "source": [
    "import numpy as np\n",
    "\n",
    "import matplotlib.pyplot as plt \n",
    "from matplotlib.ticker import (MultipleLocator, FormatStrFormatter,\n",
    "                               AutoMinorLocator)\n",
    "import matplotlib as mpl\n",
    "from sys import platform\n",
    "from scipy import integrate\n",
    "from scipy.signal import find_peaks\n",
    "# import mat73\n",
    "from matplotlib import cm\n",
    "import scipy.io\n",
    "plt.rcParams.update({'font.size': 20})\n",
    "plt.rc('axes', linewidth=2)\n",
    "plt.rcParams['xtick.major.size'] = 6\n",
    "plt.rcParams['xtick.major.width'] = 2\n",
    "plt.rcParams['xtick.minor.size'] = 3\n",
    "plt.rcParams['xtick.minor.width'] = 1\n",
    "plt.rcParams['ytick.major.size'] = 6\n",
    "plt.rcParams['ytick.major.width'] = 2\n",
    "plt.rcParams['ytick.minor.size'] = 3\n",
    "plt.rcParams['ytick.minor.width'] = 1\n",
    "plt.rc('font', serif='Helvetica Neue')\n",
    "\n",
    "lines = {'linestyle': 'solid'}\n",
    "plt.rc('lines', **lines)\n",
    "%matplotlib inline \n",
    "\n",
    "\n",
    "\n",
    "filePath = r'C:\\Path\\To\\Data'\n",
    "\n",
    "import pickle\n",
    "with open(filePath + '\\QEELS_data.pickle', 'rb') as handle:\n",
    "    QEELS = pickle.load(handle)\n",
    "#%%\n",
    "DATA = QEELS['800nm_GMG_50mW']['data_final']\n",
    "energy = QEELS['800nm_GMG_50mW']['energy']\n",
    "momentum = QEELS['800nm_GMG_50mW']['momentum_full']\n",
    "\n",
    "EnPlasmon = (energy>20) & (energy<40)\n",
    "EQ_map = np.mean(DATA[0:3, :, :], axis = 0)\n",
    "factor = np.mean(EQ_map[:,EnPlasmon], axis=1)\n",
    "EQ_map_norm = (EQ_map.T/factor).T"
   ]
  },
  {
   "cell_type": "code",
   "execution_count": null,
   "metadata": {},
   "outputs": [],
   "source": [
    "\n",
    "spacing = 0\n",
    "fig = plt.figure(figsize=(7, 7))\n",
    "gs = mpl.gridspec.GridSpec(1,1)\n",
    "\n",
    "ax = plt.subplot(gs[0])\n",
    "# ax = fig.gca(projection='3d') \n",
    "\n",
    "plt.pcolor(energy, momentum, EQ_map, cmap ='terrain', shading='auto', \n",
    "           vmin=0, vmax=3, rasterized=True)\n",
    "# plt.xlabel('Energy (eV)')\n",
    "# plt.ylabel('Momentum ($\\AA^{-1}$)')\n",
    "plt.xlim([-5, 50])\n",
    "plt.ylim([-3.8, 3.8])\n",
    "plt.gca().set_aspect('auto')\n",
    "\n",
    "ax.set_yticklabels([])\n",
    "ax.set_xticklabels([0, 10,20,30,40])\n",
    "ax.set_yticks([])\n",
    "ax.set_xticks([0, 10, 20, 30 ,40])\n",
    "\n",
    "\n"
   ]
  }
 ],
 "metadata": {
  "kernelspec": {
   "display_name": "Python 3",
   "language": "python",
   "name": "python3"
  },
  "language_info": {
   "codemirror_mode": {
    "name": "ipython",
    "version": 3
   },
   "file_extension": ".py",
   "mimetype": "text/x-python",
   "name": "python",
   "nbconvert_exporter": "python",
   "pygments_lexer": "ipython3",
   "version": "3.12.1"
  }
 },
 "nbformat": 4,
 "nbformat_minor": 2
}
