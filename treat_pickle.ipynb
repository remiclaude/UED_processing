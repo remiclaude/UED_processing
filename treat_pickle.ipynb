{
 "cells": [
  {
   "cell_type": "markdown",
   "metadata": {},
   "source": [
    "Treat image ROI takes electron diffraction patterns and calibrate the image, rotate it, draw the BZ around the Bragg peak and average equivalent BZ together"
   ]
  },
  {
   "cell_type": "code",
   "execution_count": null,
   "metadata": {},
   "outputs": [],
   "source": [
    "%load_ext autoreload\n",
    "%autoreload 2\n",
    "\n",
    "import numpy as np \n",
    "import pandas as pd\n",
    "import matplotlib.pyplot as plt\n",
    "from matplotlib.patches import Polygon\n",
    "from matplotlib.patches import Circle\n",
    "from mpl_toolkits.axes_grid1 import make_axes_locatable\n",
    "import imutils\n",
    "import glob\n",
    "import matplotlib.ticker as ticker\n",
    "import cv2  # importing cv\n",
    "from skimage import img_as_float\n",
    "from skimage import filters\n",
    "import functions_analysis as fa\n",
    "import find_peak\n",
    "\n",
    "### All folder should countain a folder named 'data' containing pickle files ###\n",
    "\n",
    "scan_number = '800nm'\n",
    "path =r'C:\\Users\\rclaude\\Documents\\projet\\graphite\\data_UED'\n",
    "\n",
    "t0_num = 8 #start from one\n",
    "\n",
    "Zorder_in = np.array([242,247]) # guess position 0th order\n",
    "BP1 = np.array([147,234]) # guess position 1st order Bragg peak\n",
    "BP2 = np.array([53,222]) # guess position 2nd order Bragg peak\n",
    "method = '2D_voigt' ## method for fit\n",
    "\n",
    "df = 0\n",
    "file_list = (glob.glob(path + '/RAW_sorted/RAW_' + scan_number + '*.pickle'))\n",
    "print('list of detected files : ', file_list)\n",
    "imgON = []\n",
    "imgOFF = []\n",
    "for file in file_list: \n",
    "    input_df = pd.read_pickle(file, compression={'method': 'gzip', 'compresslevel': 1, 'mtime': 1})\n",
    "    imgON.append(np.stack(input_df['imagesON']))\n",
    "    imgOFF.append(np.stack(input_df['imagesOFF']))\n",
    "\n",
    "imgON_raw = np.sum(np.array(imgON), axis=0)\n",
    "imgOFF_raw = np.sum(np.array(imgOFF), axis=0)\n",
    "imgON = np.copy(imgON_raw)\n",
    "imgOFF = np.copy(imgOFF_raw)\n",
    "print('shape of image : ', imgON.shape)\n",
    "\n",
    "df1 = input_df.drop('imagesON', axis=1)\n",
    "df1 = input_df.drop('imagesOFF', axis=1)\n",
    "delay= (df1['LTS_position'].to_numpy())\n",
    "delay = (delay-delay[t0_num-1])*6.666\n",
    "n_delay = len(delay)\n",
    "print('delay array : ', delay)\n"
   ]
  },
  {
   "cell_type": "markdown",
   "metadata": {},
   "source": [
    "Find threshold count"
   ]
  },
  {
   "cell_type": "code",
   "execution_count": null,
   "metadata": {},
   "outputs": [],
   "source": [
    "s_roi=15\n",
    "ROI = [Zorder_in[1]-s_roi, Zorder_in[1]+s_roi, Zorder_in[0]-s_roi, Zorder_in[0]+s_roi]\n",
    "k = find_peak.make_ROI(imgOFF[0], *ROI)\n",
    "thresh = (np.max(k))*1.01\n",
    "print('Hot pixel threshold : ', thresh)\n"
   ]
  },
  {
   "cell_type": "markdown",
   "metadata": {},
   "source": [
    "Get rid of the hot pixel : set them with OFF pixels value"
   ]
  },
  {
   "cell_type": "code",
   "execution_count": null,
   "metadata": {},
   "outputs": [],
   "source": [
    "fig, axiss = plt.subplots(1,2, figsize=(10, 5), layout='tight')\n",
    "axis = axiss[0]\n",
    "ax =axiss[1]\n",
    "axis.hist(((imgON/imgOFF)[0]).flatten(), bins=100, label=r'original pixel distribution')\n",
    "axis.set_yscale('log')\n",
    "\n",
    "ax.hist(imgON[0].flatten(), bins=100, label = 'ON before')\n",
    "ax.hist(imgOFF[0].flatten(), bins=100, label = 'OFF before')\n",
    "\n",
    "ax.set_yscale('log')\n",
    "\n",
    "r_1 = 0.8\n",
    "r_2 = 1.15\n",
    "\n",
    "## remove hot pixel\n",
    "imgON, imgOFF, rh_abs = fa.remove_hot_abs(imgON, imgOFF, thresh, True)\n",
    "imgON, imgOFF, rh = fa.remove_hot_uneven(imgON, imgOFF,r_1, r_2, True)\n",
    "\n",
    "\n",
    "\n",
    "print('Pixel ratio above threshold: ', rh_abs)\n",
    "print('Pixel ratio defect: ', rh_abs)\n",
    "\n",
    "axis.hist(((imgON/imgOFF)[0]).flatten(), bins=100, label=r'pixel disitribution after removing %.3f percent'%rh)\n",
    "ax.hist(imgON[0].flatten(), bins=100, label = 'ON after')\n",
    "ax.hist(imgOFF[0].flatten(), bins=100, label = 'OFF after')\n",
    "ax.legend()\n",
    "ax.set_yscale('log')\n",
    "axis.set_yscale('log')\n",
    "axis.set_xlim(0,2)\n",
    "axis.legend()\n",
    "axis.set_title(r'Removing pixel between %.2f and %.2f'%(r_1, r_2))\n",
    "ax.set_title(r'Removing pixel above %.3e'%thresh)\n",
    "\n"
   ]
  },
  {
   "cell_type": "markdown",
   "metadata": {},
   "source": [
    "Look at the position of the unscaterred beam with different fitting method "
   ]
  },
  {
   "cell_type": "code",
   "execution_count": null,
   "metadata": {},
   "outputs": [],
   "source": [
    "methods = [ '2D_gaussian', '2D_lorentzian',  'pseudo-voigt','2D_voigt','2D_voigt_rotated']\n",
    "s_roi=15\n",
    "\n",
    "ROI = [Zorder_in[1]-s_roi, Zorder_in[1]+s_roi, Zorder_in[0]-s_roi, Zorder_in[0]+s_roi]\n",
    "o=0\n",
    "print('with ROI %i x %i'%(s_roi, s_roi))\n",
    "for met in methods: \n",
    "    pos_on = find_peak.get_pos(imgON[o], ROI, method=met, show_plot=False)\n",
    "    pos_off = find_peak.get_pos(imgOFF[o], ROI, method=met)\n",
    "    print('from '+met+' pos on = [%.3f, %.3f]'%(pos_on[0], pos_on[1]), ' and pos off = [%.3f, %.3f]'%(pos_off[0], pos_off[1]))\n",
    "    print('difference = [%.2e, %.2e]'%(pos_on[0]-pos_off[0], pos_on[1]-pos_off[1]))\n"
   ]
  },
  {
   "cell_type": "markdown",
   "metadata": {},
   "source": [
    "Get the right position of the 0th order and the 1st order Bragg peak "
   ]
  },
  {
   "cell_type": "code",
   "execution_count": null,
   "metadata": {},
   "outputs": [],
   "source": [
    "s_roi1 = 15\n",
    "s_roi2 = 15\n",
    "ROI = [Zorder_in[1]-s_roi1, Zorder_in[1]+s_roi1, Zorder_in[0]-s_roi2, Zorder_in[0]+s_roi2]\n",
    "## Zorder is the the position of the unscattered beam for delay = 0 \n",
    "Zorder = (find_peak.get_pos(imgON[-1], ROI, method, True ))\n",
    "\n",
    "\n",
    "Zorder_in = np.round(Zorder).astype(np.int16)\n",
    "\n",
    "BP_init = (find_peak.get_pos_around(imgON[0], BP1, 10, method, True ))\n",
    "BP_in = np.round(BP_init).astype(np.int16)\n",
    "\n",
    "BP_init_2 = (find_peak.get_pos_around(imgON[0], BP2, 10, method, True ))\n",
    "BP_in_2 = np.round(BP_init_2).astype(np.int16)\n",
    "\n",
    "print('position of the 0th order : ', Zorder, ' and as integer : ',  Zorder_in, ' fitting with : ', method)\n",
    "\n",
    "\n",
    "print('position of the initial 1st order Bragg peak : ', BP_init, ' and as integer : ',  BP_in, ' fitting with : ', method)\n",
    "print('position of the initial 2nd order Bragg peak : ', BP_init_2, ' and as integer : ',  BP_in_2, ' fitting with : ', method)\n",
    "\n",
    "\n",
    "vec_i = Zorder - BP_init \n",
    "vec_i_2 = Zorder - BP_init_2\n",
    "angle_sym = np.pi/2"
   ]
  },
  {
   "cell_type": "markdown",
   "metadata": {},
   "source": [
    "Get the position of all the 1st order Bragg peak with the symmetry "
   ]
  },
  {
   "cell_type": "code",
   "execution_count": 6,
   "metadata": {},
   "outputs": [],
   "source": [
    "s_roi=5\n",
    "angle_sym=np.pi/3\n",
    "sym_ax=6\n",
    "BP_a = []\n",
    "BP_b = [] \n",
    "for i in range(sym_ax):\n",
    "    BP_a.append(Zorder + fa.rotate_vector(vec_i, i*angle_sym))\n",
    "    BP_b.append(Zorder + fa.rotate_vector(vec_i_2, i*angle_sym))\n",
    "\n",
    "\n",
    "BP_a = np.array(BP_a).astype(np.int32) \n",
    "BP_b = np.array(BP_b).astype(np.int32) "
   ]
  },
  {
   "cell_type": "markdown",
   "metadata": {},
   "source": [
    "Shift the 0th order "
   ]
  },
  {
   "cell_type": "code",
   "execution_count": null,
   "metadata": {},
   "outputs": [],
   "source": [
    "center0_on = []\n",
    "center0_off = []\n",
    "# method='pseudo-voigt'\n",
    "s_roi=15\n",
    "ROI = [Zorder_in[1]-s_roi, Zorder_in[1]+s_roi, Zorder_in[0]-s_roi, Zorder_in[0]+s_roi]\n",
    "for i in range(len(delay)):\n",
    "    center0_on.append(find_peak.get_pos(imgON[i], ROI, method))\n",
    "    center0_off.append(find_peak.get_pos(imgOFF[i], ROI, method))\n",
    "s=0.1\n",
    "center0_on = np.array(center0_on)\n",
    "center0_off = np.array(center0_off)\n",
    "\n",
    "### use function shift_0order in functions_analysis \n",
    "### We first shift image ON 0th order beam position to the position of imageOFF\n",
    "### Then we shift both imgON and imgOFF to a reference point \n",
    "imgON_shifted = fa.shift_0order_fit(imgON, imgOFF, Zorder_in, s_roi, method)\n",
    "\n",
    "ref = find_peak.get_pos(np.sum(imgOFF, axis=0), ROI, method)\n",
    "print('The reference point is :', ref)\n",
    "\n",
    "imgON_shifted = fa.shift_to_ref(imgON_shifted, ref, Zorder_in, s_roi, method)\n",
    "imgOFF_shifted = fa.shift_to_ref(imgOFF, ref, Zorder_in, s_roi, method)\n",
    "print(np.shape(imgON_shifted))\n",
    "\n",
    "center0_on_shifted = []\n",
    "center0_off_shifted = []\n",
    "\n",
    "for i in range(len(delay)):\n",
    "    center0_on_shifted.append(find_peak.get_pos(imgON_shifted[i], ROI, method))\n",
    "    center0_off_shifted.append(find_peak.get_pos(imgOFF_shifted[i], ROI, method))\n",
    "\n",
    "center0_on_shifted = np.array(center0_on_shifted)\n",
    "center0_off_shifted = np.array(center0_off_shifted)\n",
    "\n",
    "\n",
    "print('for the fist delay, discrepancy between on and off is : ', center0_on[0,0]-center0_off[0,0])\n",
    "print('Zero order before shifting : ', center0_on[0])\n",
    "print('Zero order after shifting : ', center0_on_shifted[0])\n",
    "ind = -1\n",
    "fig, ax = plt.subplots(2,2, figsize=(10,10))\n",
    "fig.suptitle('fit with ' + method)\n",
    "ax[0][0].set_title('deviation ON-OFF along axis')\n",
    "ax[0][0].plot(delay, center0_on[:,0]-center0_off[:,0], label='along x')\n",
    "ax[0][0].plot(delay, center0_on[:,1]-center0_off[:,1], label='along y')\n",
    "# ax[0][0].plot(delay, center0_on_shifted[:,0]-center0_off[:,0], label='along x shifted')\n",
    "# ax[0][0].plot(delay, center0_on_shifted[:,1]-center0_off[:,1], label='along y shifted')\n",
    "ax[0][0].legend()\n",
    "ax[0][0].set_xlabel('time (ps)')\n",
    "ax[0][0].set_xlabel('deviation (px)')\n",
    "img = imgON[ind, Zorder_in[0]-s_roi:Zorder_in[0]+s_roi, Zorder_in[1]-s_roi:Zorder_in[1]+s_roi] / imgOFF[ind, Zorder_in[0]-s_roi:Zorder_in[0]+s_roi,Zorder_in[1]-s_roi: Zorder_in[1]+s_roi] \n",
    "ax[0][1].set_title(r'ON/OFF($t=%.1f$) ps without shifting correction'%delay[ind])\n",
    "ax[0][1].imshow(img-1, cmap='bwr', vmin=-s, vmax=s)\n",
    "\n",
    "ax[1][0].set_title(r'norm of the deviation')\n",
    "ax[1][0].plot(delay, np.linalg.norm(center0_on, axis=1), '+-', label='ON')\n",
    "ax[1][0].plot(delay, np.linalg.norm(center0_off, axis=1), '+-', label='OFF')\n",
    "\n",
    "ax[1][0].plot(delay, np.linalg.norm(center0_on_shifted, axis=1), label='ON shifted')\n",
    "ax[1][0].plot(delay, np.linalg.norm(center0_off_shifted, axis=1), label='OFF shifted')\n",
    "ax[1][0].set_xlabel('time (ps)')\n",
    "ax[1][0].set_xlabel('deviation (px)')\n",
    "ax[1][0].legend()\n",
    "img_shift = imgON_shifted[ind, Zorder_in[0]-s_roi:Zorder_in[0]+s_roi, Zorder_in[1]-s_roi:Zorder_in[1]+s_roi] / imgOFF_shifted[ind, Zorder_in[0]-s_roi:Zorder_in[0]+s_roi,Zorder_in[1]-s_roi: Zorder_in[1]+s_roi]\n",
    "ax[1][1].set_title(r'ON/OFF($t=%.1f$ ps) with shifting correction'%(delay[ind]))\n",
    "ax[1][1].imshow(img_shift-1, cmap='bwr', vmin=-s, vmax=s)\n"
   ]
  },
  {
   "cell_type": "markdown",
   "metadata": {},
   "source": [
    "Get the distance between 1st order Bragg peak and the angle between the vectors "
   ]
  },
  {
   "cell_type": "code",
   "execution_count": null,
   "metadata": {},
   "outputs": [],
   "source": [
    "### suming over all delay \n",
    "s_roi=10\n",
    "vecON_a, vecOFF_a = fa.get_distance_on_off(np.sum(imgON_shifted, axis=0), np.sum(imgOFF_shifted, axis=0), [BP_a[0], BP_a[3]], s_roi, '2D_voigt', False)\n",
    "s_roi=20\n",
    "vecON_b, vecOFF_b = fa.get_distance_on_off(np.sum(imgON_shifted, axis=0), np.sum(imgOFF_shifted, axis=0), [BP_b[0], BP_b[3]], s_roi, '2D_voigt', False)\n",
    "\n",
    "print('along a*, the distance for pump on = %.3f px and pump off = %.3f px'%(np.linalg.norm(vecON_a), np.linalg.norm(vecOFF_a)) )\n",
    "print('along b*, the distance for pump on = %.3f px and pump off = %.3f px'%(np.linalg.norm(vecON_b), np.linalg.norm(vecOFF_b)) )\n",
    "print('angle between 1st and 2nd order BP when on = %.4f and when off = %.4f'%(fa.angle_between(vecON_a,vecON_b)*180/np.pi, fa.angle_between(vecOFF_a,vecOFF_b)*180/np.pi))\n",
    "\n"
   ]
  },
  {
   "cell_type": "markdown",
   "metadata": {},
   "source": [
    "Average between output from the two above cells. compute the calibration constant based on L and theoretical value. \n",
    "OUTPUT : alpha, L, cal, middle"
   ]
  },
  {
   "cell_type": "code",
   "execution_count": null,
   "metadata": {},
   "outputs": [],
   "source": [
    "vert = np.array([0,1])\n",
    "alpha = fa.angle_between(vecON_a, vert)*180/np.pi-90\n",
    "La = (np.linalg.norm(vecON_a)+np.linalg.norm(vecOFF_a))/4\n",
    "Lb=  (np.linalg.norm(vecON_b)+np.linalg.norm(vecOFF_b))/8\n",
    "L = (La+Lb)/2\n",
    "print('angle of form vertical: %.3f'%(alpha) )\n",
    "print('distance between peak along a* = %.3f px'%(La))\n",
    "print('distance between peak along b* = %.3f px'%(Lb))\n",
    "print('mean distance = %.3f px'%L)\n",
    "a = 2.46 \n",
    "g_px = L\n",
    "g_A = 4*np.pi/(np.sqrt(3)*a)\n",
    "cal = g_A/g_px ## A-1/px\n",
    "# cal = 0.031112607906503217\n",
    "\n",
    "print('mean distance between the peaks: %.3f px'%L)\n",
    "print('calibration constant from graphite : %.3e 1/A/px'%cal)\n",
    "print('reciprocal lattice constant from cal : %.3e 1/A'%(L*cal))\n",
    "print('lattice constant calibrated a = %.3f px'%(4*np.pi/(La*cal)))\n",
    "print('lattice constant calibrated b = %.3f px'%(4*np.pi/(Lb*cal)))\n",
    "\n",
    "middle = np.array([256, 256])"
   ]
  },
  {
   "cell_type": "markdown",
   "metadata": {},
   "source": [
    "Built the diffraction patterns rotated with respect to the 0th order position "
   ]
  },
  {
   "cell_type": "code",
   "execution_count": 10,
   "metadata": {},
   "outputs": [],
   "source": [
    "center = (Zorder[1],Zorder[0])\n",
    "#rotation matrix for the 6 fold symmetry\n",
    "rotation_matrix = []    \n",
    "for i in range(5):\n",
    "    rotation_matrix.append( cv2.getRotationMatrix2D(center, alpha + i*60, 1.0))\n",
    "\n",
    "\n",
    "## built array of the rotated diffraction patterns \n",
    "img_ON_rotated = [] \n",
    "img_OFF_rotated = []\n",
    "for rot in rotation_matrix:\n",
    "    img_ON_rotated_one = []\n",
    "    img_OFF_rotated_one = []\n",
    "\n",
    "    for j in range(n_delay):\n",
    "        img_ON_rotated_one.append(cv2.warpAffine(imgON_shifted[j], rot, (imgON_shifted[j].shape[1], imgON_shifted[j].shape[0]), flags=cv2.INTER_LINEAR ))\n",
    "        img_OFF_rotated_one.append(cv2.warpAffine(imgOFF_shifted[j], rot, (imgOFF_shifted[j].shape[1], imgOFF_shifted[j].shape[0]),flags=cv2.INTER_LINEAR  ))\n",
    "    \n",
    "    img_ON_rotated.append(np.array(img_ON_rotated_one))\n",
    "    img_OFF_rotated.append(np.array(img_OFF_rotated_one))\n",
    "\n",
    "\n",
    "img_ON_rotated = np.array(img_ON_rotated)\n",
    "img_OFF_rotated = np.array(img_OFF_rotated)\n",
    "\n"
   ]
  },
  {
   "cell_type": "code",
   "execution_count": null,
   "metadata": {},
   "outputs": [],
   "source": [
    "### set the misinterpolate pixels to NaN\n",
    "img_ON_rotated[img_ON_rotated<100] = np.nan\n",
    "img_OFF_rotated[img_OFF_rotated<100] = np.nan\n",
    "\n",
    "mask = np.isnan(img_ON_rotated) | np.isnan(img_OFF_rotated)\n",
    "img_ON_rotated[mask]=np.nan\n",
    "img_OFF_rotated[mask]=np.nan\n",
    "\n",
    "## averaged over all symmetry axis\n",
    "imgON_rot_avg = np.nanmean(img_ON_rotated, axis=0)\n",
    "imgOFF_rot_avg = np.nanmean(img_OFF_rotated, axis=0)\n",
    "\n"
   ]
  },
  {
   "cell_type": "markdown",
   "metadata": {},
   "source": [
    "Look at the position of the 0th order for the different step"
   ]
  },
  {
   "cell_type": "code",
   "execution_count": null,
   "metadata": {},
   "outputs": [],
   "source": [
    "plot = False\n",
    "print(method)\n",
    "Zorder_rotated = (find_peak.get_pos(img_ON_rotated[1][0], ROI, method, plot ))\n",
    "Zorder_rot_averaged = (find_peak.get_pos(imgON_rot_avg[0], ROI, method, plot ))\n",
    "\n",
    "\n",
    "print('before doing the rotation Zorder is : ', Zorder)\n",
    "print('Zorder of the rotated image by pi/6 : ', Zorder_rotated)\n",
    "print('Zorder of averaged along symmetry : ', Zorder_rot_averaged)\n"
   ]
  },
  {
   "cell_type": "markdown",
   "metadata": {},
   "source": [
    "Save the data in pickle file "
   ]
  },
  {
   "cell_type": "code",
   "execution_count": 13,
   "metadata": {},
   "outputs": [],
   "source": [
    "## filter the image\n",
    "s=0\n",
    "imgON_fliped = filters.gaussian(img_as_float(imgON_rot_avg), sigma=s)\n",
    "imgOFF_fliped = filters.gaussian(img_as_float(imgOFF_rot_avg), sigma=s)\n",
    "\n",
    "\n",
    "df = pd.DataFrame()\n",
    "df['imgON'] = list(imgON_fliped)\n",
    "df['imgOFF'] = list(imgOFF_fliped)\n",
    "df['delay'] = delay\n",
    "df.attrs['t0_index'] = t0_num\n",
    "df.attrs['calibration'] = cal\n",
    "df.attrs['peak_dist'] = L\n",
    "df.attrs['scan_number'] = scan_number\n",
    "df.attrs['Zorder_pos'] = Zorder_rot_averaged\n",
    "\n",
    "\n",
    "df.to_pickle(path + r'\\PROCESSED\\PROC_'+scan_number, compression={'method': 'gzip', 'compresslevel': 1, 'mtime': 1})"
   ]
  },
  {
   "cell_type": "markdown",
   "metadata": {},
   "source": [
    "Plot the result "
   ]
  },
  {
   "cell_type": "code",
   "execution_count": null,
   "metadata": {},
   "outputs": [],
   "source": [
    "at = t0_num\n",
    "bt = t0_num\n",
    "%matplotlib inline\n",
    "print('delay before t0 = ', delay[:bt])\n",
    "print('delay after t0 = ', delay[at:])\n",
    "\n",
    "img_diff_raw = (np.mean(imgON[at:], axis=0))/np.mean(imgOFF[at:], axis=0) - (np.mean(imgON[:bt], axis=0))/np.mean(imgOFF[:bt], axis=0)\n",
    "\n",
    "\n",
    "img_diff_proccessed = (np.mean(imgON_rot_avg[at:], axis=0))/np.mean(imgOFF_rot_avg[at:], axis=0) - (np.mean(imgON_rot_avg[:bt], axis=0))/np.mean(imgOFF_rot_avg[:bt], axis=0)\n",
    "\n",
    "\n",
    "sens=0.01\n",
    "sens2 = np.percentile(imgON[0], 99.8)\n",
    "fig, axis = plt.subplots(1,4, figsize=(20, 6),layout='tight')\n",
    "axis[0].imshow(np.mean(imgON[at:], axis=0), cmap='bwr',vmin=0, vmax=sens2, aspect=1)\n",
    "axis[0].set_title('original image')\n",
    "\n",
    "\n",
    "axis[1].imshow((np.mean(imgON_rot_avg[at:], axis=0)), cmap='bwr',vmin=0, vmax=sens2, aspect=1)\n",
    "axis[1].set_title('averaged over rotated')\n",
    "\n",
    "\n",
    "axis[2].imshow(img_diff_raw, cmap='bwr',vmin=-sens, vmax=sens, aspect=1)\n",
    "axis[2].set_title('ON/OFF original')\n",
    "\n",
    "\n",
    "axis[3].imshow(img_diff_proccessed, cmap='bwr',vmin=-sens, vmax=sens, aspect=1)\n",
    "axis[3].set_title('ON/OFF original')\n",
    "\n",
    "\n",
    "for ax in axis:\n",
    "    ax.set_xticks([])\n",
    "    ax.set_yticks([])\n"
   ]
  }
 ],
 "metadata": {
  "kernelspec": {
   "display_name": "Python 3",
   "language": "python",
   "name": "python3"
  },
  "language_info": {
   "codemirror_mode": {
    "name": "ipython",
    "version": 3
   },
   "file_extension": ".py",
   "mimetype": "text/x-python",
   "name": "python",
   "nbconvert_exporter": "python",
   "pygments_lexer": "ipython3",
   "version": "3.12.1"
  },
  "orig_nbformat": 4
 },
 "nbformat": 4,
 "nbformat_minor": 2
}
